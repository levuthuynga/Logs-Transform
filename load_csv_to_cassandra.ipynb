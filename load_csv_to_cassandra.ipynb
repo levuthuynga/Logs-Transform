{
 "cells": [
  {
   "cell_type": "code",
   "execution_count": 15,
   "id": "8070807e-5f17-4180-a4eb-a0d7061873cb",
   "metadata": {},
   "outputs": [],
   "source": [
    "from pyspark.sql import SparkSession\n",
    "from pyspark.sql.functions import col\n",
    "from pyspark.sql.types import *"
   ]
  },
  {
   "cell_type": "code",
   "execution_count": 16,
   "id": "a5a64bb4-ed48-43b3-b0ca-c89492e67e11",
   "metadata": {},
   "outputs": [],
   "source": [
    "# Initialize Spark session with Cassandra support\n",
    "spark = SparkSession.builder \\\n",
    "    .appName(\"CSV to Cassandra\") \\\n",
    "    .config(\"spark.cassandra.connection.host\", \"cassandra\") \\\n",
    "    .config(\"spark.cassandra.connection.port\", \"9042\") \\\n",
    "    .getOrCreate()\n",
    "\n",
    "\n",
    "    ##.config(\"spark.jars.packages\", \"com.datastax.spark:spark-cassandra-connector_2.12:3.5.0\") \\"
   ]
  },
  {
   "cell_type": "code",
   "execution_count": 17,
   "id": "3745f969-4614-4fca-84be-29bbea7859a4",
   "metadata": {},
   "outputs": [],
   "source": [
    "schema = StructType([\n",
    "    StructField(\"create_time\", StringType(), True),\n",
    "    StructField(\"bid\", IntegerType(), True),\n",
    "    StructField(\"bn\", StringType(), True),\n",
    "    StructField(\"campaign_id\", IntegerType(), True),\n",
    "    StructField(\"cd\", IntegerType(), True),\n",
    "    StructField(\"custom_track\", StringType(), True),\n",
    "    StructField(\"de\", StringType(), True),\n",
    "    StructField(\"dl\", StringType(), True),\n",
    "    StructField(\"dt\", StringType(), True),\n",
    "    StructField(\"ed\", StringType(), True),\n",
    "    StructField(\"ev\", IntegerType(), True),\n",
    "    StructField(\"group_id\", IntegerType(), True),\n",
    "    StructField(\"id\", StringType(), True),\n",
    "    StructField(\"job_id\", IntegerType(), True),\n",
    "    StructField(\"md\", StringType(), True),\n",
    "    StructField(\"publisher_id\", IntegerType(), True),\n",
    "    StructField(\"rl\", StringType(), True),\n",
    "    StructField(\"sr\", StringType(), True),\n",
    "    StructField(\"ts\", StringType(), True),\n",
    "    StructField(\"tz\", IntegerType(), True),\n",
    "    StructField(\"ua\", StringType(), True),\n",
    "    StructField(\"uid\", StringType(), True),\n",
    "    StructField(\"utm_campaign\", StringType(), True),\n",
    "    StructField(\"utm_content\", StringType(), True),\n",
    "    StructField(\"utm_medium\", StringType(), True),\n",
    "    StructField(\"utm_source\", StringType(), True),\n",
    "    StructField(\"utm_term\", StringType(), True),\n",
    "    StructField(\"v\", IntegerType(), True),\n",
    "    StructField(\"vp\", StringType(), True)])"
   ]
  },
  {
   "cell_type": "code",
   "execution_count": 18,
   "id": "a1dfc610-442c-427a-b4d3-6bb646f4ab7f",
   "metadata": {},
   "outputs": [],
   "source": [
    "# Load CSV file\n",
    "csv_file = \"tracking.csv\" \n",
    "df = spark.read.option(\"header\", \"true\").option(\"delimiter\", \",\") \\\n",
    "    .option(\"quote\", '\"') \\\n",
    "    .option(\"escape\", '\"').option(\"timestampFormat\", \"yyyy-MM-dd HH:mm:ss.SSS\").schema(schema).csv(csv_file)\n"
   ]
  },
  {
   "cell_type": "code",
   "execution_count": 19,
   "id": "a634dabf-013f-4733-ac4b-17952b8f4cdc",
   "metadata": {},
   "outputs": [
    {
     "data": {
      "text/plain": [
       "6662"
      ]
     },
     "execution_count": 19,
     "metadata": {},
     "output_type": "execute_result"
    }
   ],
   "source": [
    "df.count()"
   ]
  },
  {
   "cell_type": "code",
   "execution_count": 22,
   "id": "ed7e38c0-f3ad-4eb0-bb4c-f46ab3b0d8a5",
   "metadata": {},
   "outputs": [],
   "source": [
    "# Define Cassandra keyspace and table\n",
    "keyspace = \"realtime_data\"\n",
    "table = \"tracking\""
   ]
  },
  {
   "cell_type": "code",
   "execution_count": 23,
   "id": "b6e65e06-f4d3-457e-a8b8-e32a5b389ece",
   "metadata": {},
   "outputs": [
    {
     "data": {
      "text/plain": [
       "<cassandra.cluster.ResultSet at 0x7bd7d6b8add0>"
      ]
     },
     "execution_count": 23,
     "metadata": {},
     "output_type": "execute_result"
    }
   ],
   "source": [
    "# Ensure Cassandra keyspace and table exist\n",
    "from cassandra.cluster import Cluster\n",
    "cluster = Cluster([\"cassandra\"])\n",
    "session = cluster.connect()\n",
    "session.execute(f\"CREATE KEYSPACE IF NOT EXISTS {keyspace} WITH replication = {{'class': 'SimpleStrategy', 'replication_factor': 1}};\")\n",
    "session.set_keyspace(keyspace)\n",
    "session.execute(f\"\"\"\n",
    "    CREATE TABLE IF NOT EXISTS {table} (\n",
    "        create_time text PRIMARY KEY,\n",
    "        bid int,\n",
    "        bn text,\n",
    "        campaign_id int,\n",
    "        cd int,\n",
    "        custom_track text,\n",
    "        de text,\n",
    "        dl text,\n",
    "        dt text,\n",
    "        ed text,\n",
    "        ev int,\n",
    "        group_id int,\n",
    "        id text,\n",
    "        job_id int,\n",
    "        md text,\n",
    "        publisher_id int,\n",
    "        rl text,\n",
    "        sr text,\n",
    "        ts text,\n",
    "        tz int,\n",
    "        ua text,\n",
    "        uid text,\n",
    "        utm_campaign text,\n",
    "        utm_content text,\n",
    "        utm_medium text,\n",
    "        utm_source text,\n",
    "        utm_term text,\n",
    "        v int,\n",
    "        vp text\n",
    "    );\n",
    "\"\"\")\n",
    "\n"
   ]
  },
  {
   "cell_type": "code",
   "execution_count": 26,
   "id": "20e85268-488d-4bf1-a1c9-a9e26219cecb",
   "metadata": {},
   "outputs": [
    {
     "name": "stdout",
     "output_type": "stream",
     "text": [
      "Data successfully imported into Cassandra!\n"
     ]
    }
   ],
   "source": [
    "# Write data to Cassandra\n",
    "df.write \\\n",
    "    .format(\"org.apache.spark.sql.cassandra\") \\\n",
    "    .mode(\"overwrite\") \\\n",
    "    .options(table=table, keyspace=keyspace, **{\"confirm.truncate\": \"true\"}) \\\n",
    "    .save()\n",
    "\n",
    "print(\"Data successfully imported into Cassandra!\")\n"
   ]
  },
  {
   "cell_type": "code",
   "execution_count": 27,
   "id": "53380adb-7244-448c-a0c8-7f44324c4dae",
   "metadata": {},
   "outputs": [
    {
     "name": "stdout",
     "output_type": "stream",
     "text": [
      "+--------------------+----+----------+-----------+---+------------+-----+--------------------+---------------+--------------------+---+--------+----+------+----+------------+--------------------+---------+--------------------+----+--------------------+-------------------+------------+-----------+----------+----------+--------+---+--------+\n",
      "|         create_time| bid|        bn|campaign_id| cd|custom_track|   de|                  dl|             dt|                  ed| ev|group_id|  id|job_id|  md|publisher_id|                  rl|       sr|                  ts|  tz|                  ua|                uid|utm_campaign|utm_content|utm_medium|utm_source|utm_term|  v|      vp|\n",
      "+--------------------+----+----------+-----------+---+------------+-----+--------------------+---------------+--------------------+---+--------+----+------+----+------------+--------------------+---------+--------------------+----+--------------------+-------------------+------------+-----------+----------+----------+--------+---+--------+\n",
      "|f28f6310-0c00-11e...|   0|Chrome 103|        222| 24|       click|UTF-8|http://fe.dev.got...|CandidatePortal|{\"customEvent\":\"c...|  2|    NULL|NULL|  1529|true|           1|                NULL| 1366x768|2022-07-25 10:02:...|-420|Mozilla/5.0 (Wind...|1-yh82s4al-l60jlqwa|        NULL|       NULL|      NULL|      NULL|    NULL|  1|1366x625|\n",
      "|741431f0-07e1-11e...|NULL|Chrome 103|       NULL| 24|        NULL|UTF-8|http://150.136.2....|CandidatePortal|                NULL|  1|    NULL|NULL|  NULL|true|        NULL|                NULL|1920x1080|2022-07-20 04:07:...|-420|Mozilla/5.0 (Maci...|1-frw2ni0g-l57vers3|        NULL|       NULL|      NULL|      NULL|    NULL|  1|1434x750|\n",
      "|484d2300-fea0-11e...|   2|Chrome 103|          4| 24|       click|UTF-8|http://150.230.18...|CandidatePortal|{\"customEvent\":\"c...|  2|    NULL|NULL|    98|true|           1|                NULL| 1366x768|2022-07-08 09:28:...|-420|Mozilla/5.0 (Wind...|1-c5v39kv8-l5c94dee|        NULL|       NULL|      NULL|      NULL|    NULL|  1|1366x625|\n",
      "|80825e40-09ed-11e...|NULL|Chrome 102|       NULL| 24|       alive|UTF-8|http://localhost:...|CandidatePortal|{\"customEvent\":\"a...|  2|    NULL|NULL|  NULL|true|        NULL|http://localhost:...|1920x1080|2022-07-22 18:38:...|-420|Mozilla/5.0 (Maci...|1-ok78d38x-l5j7ka8p|        NULL|       NULL|      NULL|      NULL|    NULL|  1| 868x925|\n",
      "|366d6b40-08a5-11e...|NULL| Safari 15|       NULL| 24|        NULL|UTF-8|http://fe.dev.got...|CandidatePortal|                NULL|  1|    NULL|NULL|  NULL|true|        NULL|                NULL| 1440x900|2022-07-21 03:28:...|-420|Mozilla/5.0 (Maci...|1-angvi60v-l5ttg5gn|        NULL|       NULL|      NULL|      NULL|    NULL|  1|1440x772|\n",
      "|56647d20-089c-11e...|NULL|Chrome 103|       NULL| 24|        NULL|UTF-8|http://150.230.18...|CandidatePortal|                NULL|  1|    NULL|NULL|  NULL|true|        NULL|                NULL|1920x1080|2022-07-21 02:25:...|-420|Mozilla/5.0 (Maci...|1-4lva4hrh-l5te7l3b|        NULL|       NULL|      NULL|      NULL|    NULL|  1|1920x884|\n",
      "|dfcb32f0-0808-11e...|NULL|Chrome 103|       NULL| 24|        NULL|UTF-8|http://150.136.2....|CandidatePortal|                NULL|  1|    NULL|NULL|  NULL|true|        NULL|                NULL|1920x1080|2022-07-20 08:49:...|-420|Mozilla/5.0 (Maci...|1-uom6q84q-l4qqefeo|        NULL|       NULL|      NULL|      NULL|    NULL|  1|1748x689|\n",
      "|244ea310-0261-11e...|NULL|Chrome 103|       NULL| 30|        NULL|UTF-8|http://150.136.2....|CandidatePortal|                NULL|  1|    NULL|NULL|  NULL|true|        NULL|                NULL| 1440x900|2022-07-13 04:06:...|-420|Mozilla/5.0 (Maci...|1-frw2ni0g-l57vers3|        NULL|       NULL|      NULL|      NULL|    NULL|  1|1440x708|\n",
      "|62b877e0-0caf-11e...|   2|Chrome 103|          4| 24|        NULL|UTF-8|http://fe.dev.got...|CandidatePortal|                NULL|  1|    NULL|NULL|    98|true|           1|                NULL| 1366x768|2022-07-26 06:51:...|-420|Mozilla/5.0 (Wind...|1-kntupfok-l61tduvk|        NULL|       NULL|      NULL|      NULL|    NULL|  1|1366x625|\n",
      "|e18c7750-0cb0-11e...|   0|Chrome 103|        222| 24|        NULL|UTF-8|http://fe.dev.got...|CandidatePortal|                NULL|  1|    NULL|NULL|  1531|true|           1|                NULL| 1366x768|2022-07-26 07:02:...|-420|Mozilla/5.0 (Wind...|1-58f24e7n-l61ty9fi|        NULL|       NULL|      NULL|      NULL|    NULL|  1|1366x625|\n",
      "|d3d525b0-0c03-11e...|NULL|Chrome 103|       NULL| 24|  conversion|UTF-8|http://localhost:...|CandidatePortal|{\"customEvent\":\"c...|  2|    NULL|NULL|  NULL|true|        NULL|                NULL|1920x1080|2022-07-25 10:23:...|-420|Mozilla/5.0 (Maci...|1-j806pz4h-l5xomouh|        NULL|       NULL|      NULL|      NULL|    NULL|  1|1320x944|\n",
      "|5f5e5360-02ca-11e...|NULL|Chrome 103|       NULL| 24|       click|UTF-8|http://localhost:...|CandidatePortal|{\"customEvent\":\"c...|  2|    NULL|NULL|  NULL|true|        NULL|http://localhost:...| 1536x864|2022-07-13 16:39:...|-420|Mozilla/5.0 (Wind...|1-rrc3k5vd-l4o0b4yy|        NULL|       NULL|      NULL|      NULL|    NULL|  1|1050x714|\n",
      "|130b7f40-0bff-11e...|   0|Chrome 103|        222| 24|        NULL|UTF-8|http://fe.dev.got...|CandidatePortal|                NULL|  1|    NULL|NULL|  1534|true|           1|                NULL| 1366x768|2022-07-25 09:49:...|-420|Mozilla/5.0 (Wind...|1-yh82s4al-l60jlqwa|        NULL|       NULL|      NULL|      NULL|    NULL|  1|1366x568|\n",
      "|554ddf50-04b2-11e...|NULL|Chrome 103|       NULL| 30|        NULL|UTF-8|http://129.213.68...|CandidatePortal|                NULL|  1|    NULL|NULL|  NULL|true|        NULL|                NULL| 1440x900|2022-07-16 02:52:...|-420|Mozilla/5.0 (Maci...|1-yw35hi9u-l4qdryx0|        NULL|       NULL|      NULL|      NULL|    NULL|  1|1440x797|\n",
      "|ebbecd00-018d-11e...|NULL|Chrome 103|       NULL| 24|       click|UTF-8|http://localhost:...|CandidatePortal|{\"customEvent\":\"c...|  2|    NULL|NULL|  NULL|true|        NULL|http://localhost:...|1920x1080|2022-07-12 02:54:...|-420|Mozilla/5.0 (Wind...|1-rrc3k5vd-l4o0b4yy|        NULL|       NULL|      NULL|      NULL|    NULL|  1|1367x929|\n",
      "|903a2840-0d62-11e...|   0|Chrome 103|        222| 24|       click|UTF-8|http://fe.dev.got...|CandidatePortal|{\"customEvent\":\"c...|  2|    NULL|NULL|  1529|true|           1|                NULL| 1366x768|2022-07-27 04:14:...|-420|Mozilla/5.0 (Wind...|1-5bqarbwn-l633cyss|        NULL|       NULL|      NULL|      NULL|    NULL|  1|1366x625|\n",
      "|58c02f00-0c8f-11e...|   0|Chrome 103|        222| 24|        NULL|UTF-8|http://fe.dev.got...|CandidatePortal|                NULL|  1|    NULL|NULL|  1533|true|           1|                NULL| 1366x768|2022-07-26 03:02:...|-420|Mozilla/5.0 (Wind...|1-t8bqaiy4-l61kszmf|        NULL|       NULL|      NULL|      NULL|    NULL|  1|1366x625|\n",
      "|b6b5c130-fea0-11e...|   2|Chrome 103|          4| 24|        NULL|UTF-8|http://150.230.18...|CandidatePortal|                NULL|  1|    NULL|NULL|    98|true|           1|                NULL| 1366x768|2022-07-08 09:31:...|-420|Mozilla/5.0 (Wind...|1-c5v39kv8-l5c94dee|        NULL|       NULL|      NULL|      NULL|    NULL|  1|1366x625|\n",
      "|55991b50-09a3-11e...|NULL|Chrome 103|       NULL| 24|        NULL|UTF-8|http://fe.dev.got...|CandidatePortal|                NULL|  1|    NULL|NULL|  NULL|true|        NULL|                NULL| 1536x864|2022-07-22 09:47:...|-420|Mozilla/5.0 (Wind...|1-c47yjfpn-l5wa44hc|        NULL|       NULL|      NULL|      NULL|    NULL|  1|1536x753|\n",
      "|624a64e0-02cc-11e...|NULL|Chrome 103|       NULL| 30|        NULL|UTF-8|http://150.230.18...|CandidatePortal|                NULL|  1|    NULL|NULL|  NULL|true|        NULL|                NULL| 1440x900|2022-07-13 16:53:...|-420|Mozilla/5.0 (Maci...|1-x4kr0zhi-l4oz0ilv|        NULL|       NULL|      NULL|      NULL|    NULL|  1|1440x797|\n",
      "+--------------------+----+----------+-----------+---+------------+-----+--------------------+---------------+--------------------+---+--------+----+------+----+------------+--------------------+---------+--------------------+----+--------------------+-------------------+------------+-----------+----------+----------+--------+---+--------+\n",
      "only showing top 20 rows\n",
      "\n"
     ]
    }
   ],
   "source": [
    "test = spark.read \\\n",
    "  .format(\"org.apache.spark.sql.cassandra\") \\\n",
    "  .options(table=table, keyspace=keyspace) \\\n",
    "  .load()\n",
    "\n",
    "test.show()\n"
   ]
  },
  {
   "cell_type": "code",
   "execution_count": 28,
   "id": "7ab4b494-fc84-4e3c-b5d2-568454299a18",
   "metadata": {
    "scrolled": true
   },
   "outputs": [
    {
     "data": {
      "text/plain": [
       "6662"
      ]
     },
     "execution_count": 28,
     "metadata": {},
     "output_type": "execute_result"
    }
   ],
   "source": [
    "test.count()"
   ]
  },
  {
   "cell_type": "code",
   "execution_count": 14,
   "id": "431fa6d7-4941-4e42-8f97-44f3ed75bfa6",
   "metadata": {},
   "outputs": [],
   "source": [
    "# Stop Spark session\n",
    "spark.stop()"
   ]
  },
  {
   "cell_type": "code",
   "execution_count": null,
   "id": "4375d508-62d0-4732-97ab-a28196d68f6c",
   "metadata": {},
   "outputs": [],
   "source": []
  }
 ],
 "metadata": {
  "kernelspec": {
   "display_name": "Python 3 (ipykernel)",
   "language": "python",
   "name": "python3"
  },
  "language_info": {
   "codemirror_mode": {
    "name": "ipython",
    "version": 3
   },
   "file_extension": ".py",
   "mimetype": "text/x-python",
   "name": "python",
   "nbconvert_exporter": "python",
   "pygments_lexer": "ipython3",
   "version": "3.11.6"
  }
 },
 "nbformat": 4,
 "nbformat_minor": 5
}
